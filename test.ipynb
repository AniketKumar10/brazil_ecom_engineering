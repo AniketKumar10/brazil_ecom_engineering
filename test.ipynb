{
 "cells": [
  {
   "cell_type": "code",
   "execution_count": 1,
   "metadata": {},
   "outputs": [],
   "source": [
    "import mysql.connector"
   ]
  },
  {
   "cell_type": "code",
   "execution_count": 11,
   "metadata": {},
   "outputs": [
    {
     "name": "stdout",
     "output_type": "stream",
     "text": [
      "<mysql.connector.connection_cext.CMySQLConnection object at 0x0000024CEDAF0DD0>\n"
     ]
    }
   ],
   "source": [
    "mydb = mysql.connector.connect(\n",
    "    host = \"localhost\",\n",
    "    username = \"root\",\n",
    "    password = \"Password\",\n",
    "    database = \"brazil_ecom\"\n",
    ")\n",
    "\n",
    "print(mydb)"
   ]
  },
  {
   "cell_type": "code",
   "execution_count": 8,
   "metadata": {},
   "outputs": [
    {
     "name": "stdout",
     "output_type": "stream",
     "text": [
      "('customer_dataset',)\n",
      "('geolocation_dataset',)\n",
      "('order_items_dataset',)\n",
      "('order_payments_data',)\n",
      "('orders_dataset',)\n",
      "('product_catagory_name_translation',)\n",
      "('product_dataset',)\n",
      "('sellers_dataset',)\n"
     ]
    }
   ],
   "source": [
    "mycursor = mydb.cursor()\n",
    "\n",
    "mycursor.execute(\"SHOW tables\")\n",
    "\n",
    "for x in mycursor:\n",
    "    print(x)"
   ]
  }
 ],
 "metadata": {
  "kernelspec": {
   "display_name": "base",
   "language": "python",
   "name": "python3"
  },
  "language_info": {
   "codemirror_mode": {
    "name": "ipython",
    "version": 3
   },
   "file_extension": ".py",
   "mimetype": "text/x-python",
   "name": "python",
   "nbconvert_exporter": "python",
   "pygments_lexer": "ipython3",
   "version": "3.11.7"
  }
 },
 "nbformat": 4,
 "nbformat_minor": 2
}
